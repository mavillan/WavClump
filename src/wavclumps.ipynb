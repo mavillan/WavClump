{
 "cells": [
  {
   "cell_type": "markdown",
   "metadata": {},
   "source": [
    "<center>\n",
    "    <h1> INF491 - Astroinformatics </h1>\n",
    "    <h2> WavClumps Project:  A Wavelet based algorithm to find clumps and its structure </h2>\n",
    "    <h3> Martín Villanueva A. <sup>1</sup></h3>\n",
    "</center>\n",
    "\n",
    "[1] _martin.villanueva@alumnos.usm.cl - DI UTFSM - June 2016._"
   ]
  },
  {
   "cell_type": "markdown",
   "metadata": {},
   "source": [
    "## Table of Contents\n",
    "* [Introduction](#intro)\n",
    "* [Proposed Solution](#proposal)\n",
    "* [Concept Test and Experiments](#tests)"
   ]
  },
  {
   "cell_type": "markdown",
   "metadata": {},
   "source": [
    "<div id='intro' />\n",
    "## Introduction"
   ]
  },
  {
   "cell_type": "markdown",
   "metadata": {},
   "source": []
  },
  {
   "cell_type": "markdown",
   "metadata": {},
   "source": [
    "<div id='proposal' />\n",
    "## Proposed Solution"
   ]
  },
  {
   "cell_type": "markdown",
   "metadata": {},
   "source": [
    "<img src=\"files/wavclump.png\" style=\"width: 450px;\">"
   ]
  },
  {
   "cell_type": "markdown",
   "metadata": {},
   "source": [
    "<img src=\"files/cf.png\" style=\"width: 300px;\">"
   ]
  },
  {
   "cell_type": "markdown",
   "metadata": {},
   "source": [
    "<img src=\"files/fw.png\" style=\"width: 300px;\">"
   ]
  },
  {
   "cell_type": "markdown",
   "metadata": {},
   "source": [
    "<img src=\"files/level0.png\" style=\"width: 800px;\">"
   ]
  },
  {
   "cell_type": "markdown",
   "metadata": {},
   "source": [
    "<img src=\"files/level1.png\" style=\"width: 800px;\">"
   ]
  },
  {
   "cell_type": "markdown",
   "metadata": {},
   "source": [
    "<img src=\"files/level2.png\" style=\"width: 800px;\">"
   ]
  },
  {
   "cell_type": "markdown",
   "metadata": {},
   "source": [
    "<img src=\"files/level3.png\" style=\"width: 800px;\">"
   ]
  },
  {
   "cell_type": "markdown",
   "metadata": {},
   "source": [
    "<div id='tests' />\n",
    "## Concept Test and Experiments"
   ]
  },
  {
   "cell_type": "code",
   "execution_count": 1,
   "metadata": {
    "collapsed": false
   },
   "outputs": [],
   "source": [
    "%matplotlib inline\n",
    "\n",
    "import sys\n",
    "import os\n",
    "import numpy as np\n",
    "import numpy.ma as ma\n",
    "import matplotlib.pyplot as plt\n",
    "import matlab.engine\n",
    "\n",
    "sys.path.insert(0, './clumping')\n",
    "import fellwalker as fwalker"
   ]
  },
  {
   "cell_type": "markdown",
   "metadata": {},
   "source": [
    "### Matlab engine to use"
   ]
  },
  {
   "cell_type": "code",
   "execution_count": 2,
   "metadata": {
    "collapsed": false
   },
   "outputs": [],
   "source": [
    "eng = matlab.engine.start_matlab()"
   ]
  },
  {
   "cell_type": "markdown",
   "metadata": {},
   "source": [
    "### Testing some wavelets"
   ]
  },
  {
   "cell_type": "markdown",
   "metadata": {},
   "source": [
    "In first place let's see the efects of applying 3D-DWT on a FITS image to perform multiresolution analysis, with different Wavelets families. "
   ]
  },
  {
   "cell_type": "code",
   "execution_count": 3,
   "metadata": {
    "collapsed": true
   },
   "outputs": [],
   "source": [
    "eng.wavemenu(nargout=0)"
   ]
  },
  {
   "cell_type": "markdown",
   "metadata": {},
   "source": [
    "### Loading FITS data"
   ]
  },
  {
   "cell_type": "code",
   "execution_count": 4,
   "metadata": {
    "collapsed": false
   },
   "outputs": [],
   "source": [
    "\"\"\"\n",
    "Loading data\n",
    "\"\"\"\n",
    "#fits_path = '../../bindata/fits/cubes/Antennae_North.CO3_2Line.Clean.pcal1.image.fits'\n",
    "#fits_path = '../../bindata/fits/cubes/Antennae_South.CO3_2Line.Clean.pcal1.image.fits'\n",
    "#fits_path = '../../bindata/fits/cubes/CenA.CO2_1Line.Clean.image.fits'\n",
    "#fits_path = '../../bindata/fits/cubes/M100line.image.fits'\n",
    "fits_path = '../../bindata/fits/cubes/Orion.methanol.cbc.contsub.image.fits'\n",
    "\n",
    "if os.path.isfile(fits_path):\n",
    "    ml_data = eng.load_fits(fits_path)\n",
    "    np_data = np.asarray(ml_data)\n",
    "    np_data = ma.masked_array(np_data, mask=np.isnan(np_data))\n",
    "else: print(\"FITS file doesn't exist\")"
   ]
  },
  {
   "cell_type": "code",
   "execution_count": 5,
   "metadata": {
    "collapsed": true
   },
   "outputs": [],
   "source": [
    "A,D = eng.mra(ml_data, 'sym5', 3, nargout=2)"
   ]
  },
  {
   "cell_type": "code",
   "execution_count": 6,
   "metadata": {
    "collapsed": false
   },
   "outputs": [
    {
     "name": "stdout",
     "output_type": "stream",
     "text": [
      "INFO: CAA initialized successfully [fellwalker]\n",
      "INFO: [Stage 1] Removing small isolated regions [fellwalker]\n",
      "INFO: [Stage 2] Walking up! [fellwalker]\n",
      "INFO: Number of clumps found: 99 [fellwalker]\n",
      "INFO: [Stage 3] Removing small clumps [fellwalker]\n",
      "INFO: Number of remaining clumps: 76 [fellwalker]\n",
      "INFO: [Stage 4] Merging clumps with low dip [fellwalker]\n",
      "INFO: Number of remaining clumps: 22 [fellwalker]\n",
      "INFO: [Stage 5] Smoothing boundaries [fellwalker]\n"
     ]
    }
   ],
   "source": [
    "fw = fwalker.FellWalker()\n",
    "caa,clump = fw.run(np_data, verbose=True)"
   ]
  },
  {
   "cell_type": "code",
   "execution_count": 14,
   "metadata": {
    "collapsed": false
   },
   "outputs": [],
   "source": [
    "class WavClumps():\n",
    "    def __init__(self, wavelet='sym5', nlevel=4, clumping_method='fellwalker'):\n",
    "        self.wavelet = wavelet\n",
    "        self.nlevel = nlevel\n",
    "        #setting the clumping algorithm\n",
    "        if clumping_method=='fellwalker':\n",
    "            self.clumping = fwalker.FellWalker()\n",
    "        elif clumping_method=='clumpfind':\n",
    "            pass\n",
    "        #setting default params\n",
    "        self.default_params()\n",
    "    \n",
    "    def default_params(self):\n",
    "        pass\n",
    "    \n",
    "    def mra(self, ml_data):\n",
    "        \"\"\"\n",
    "        Computes approximations and details for each level\n",
    "        \"\"\"\n",
    "        _A,_D = eng.mra(ml_data, self.wavelet, self.nlevel, nargout=2)\n",
    "        \n",
    "        #casting to numpy.ndarray\n",
    "        A = map(np.asarray, _A)\n",
    "        D = map(np.asarray, _D)\n",
    "        del _A,_D\n",
    "        return (A,D)\n",
    "    \n",
    "    def dendro_build(self):\n",
    "        pass\n",
    "    \n",
    "    def run(self, np_data, ml_data):\n",
    "        #perform multiresolution analysis\n",
    "        A,D = self.mra(ml_data)\n",
    "        A.insert(0, np_data)\n",
    "        \n",
    "        #perform clumping algorithm over original data and each approximation level\n",
    "        caa = list()\n",
    "        clumps = list()\n",
    "        for data in A:\n",
    "            res = self.clumping.run(data)\n",
    "            caa.append(res[0])\n",
    "            clumps.append(res[1])\n",
    "        \n",
    "        #storing results\n",
    "        self.caa = caa\n",
    "        self.clumps = clumps\n",
    "        return caa,clumps\n",
    "    \n",
    "    def summarize(self):\n",
    "        for i in range(self.nlevel+1):\n",
    "            print('Level {0}:'.format(i))\n",
    "            print('Number of clumps: {0}'.format(len(self.clumps[i])))\n",
    "            mval = 0\n",
    "            for pixels in self.clumps[i].values():\n",
    "                npix = len(pixels)\n",
    "                if npix>mval: mval = npix\n",
    "            print('Number of pixels of bigger clump:{0}'.format(mval))\n",
    "            print('------------------------------------------')"
   ]
  },
  {
   "cell_type": "markdown",
   "metadata": {},
   "source": [
    "### Instances with differente Wavelet family and "
   ]
  },
  {
   "cell_type": "code",
   "execution_count": 15,
   "metadata": {
    "collapsed": true
   },
   "outputs": [],
   "source": [
    "wc1 = WavClumps(wavelet='sym2', nlevel=4)\n",
    "wc2 = WavClumps(wavelet='db2', nlevel=4)\n",
    "wc3 = WavClumps(wavelet='haar', nlevel=4)\n",
    "wc4 = WavClumps(wavelet='bior1.1', nlevel=4)"
   ]
  },
  {
   "cell_type": "code",
   "execution_count": 16,
   "metadata": {
    "collapsed": false
   },
   "outputs": [],
   "source": [
    "caa1, clumps1 = wc1.run(np_data, ml_data)"
   ]
  },
  {
   "cell_type": "code",
   "execution_count": 10,
   "metadata": {
    "collapsed": true
   },
   "outputs": [],
   "source": [
    "caa2, clumps2 = wc2.run(np_data, ml_data)"
   ]
  },
  {
   "cell_type": "code",
   "execution_count": 11,
   "metadata": {
    "collapsed": true
   },
   "outputs": [],
   "source": [
    "caa3, clumps3 = wc3.run(np_data, ml_data)"
   ]
  },
  {
   "cell_type": "code",
   "execution_count": 18,
   "metadata": {
    "collapsed": true
   },
   "outputs": [],
   "source": [
    "caa4, clumps4 = wc4.run(np_data, ml_data)"
   ]
  },
  {
   "cell_type": "markdown",
   "metadata": {},
   "source": [
    "### Some sumarizing results"
   ]
  },
  {
   "cell_type": "code",
   "execution_count": 17,
   "metadata": {
    "collapsed": false
   },
   "outputs": [
    {
     "name": "stdout",
     "output_type": "stream",
     "text": [
      "Level 0:\n",
      "Number of clumps: 22\n",
      "Number of pixels of bigger clump:30359\n",
      "------------------------------------------\n",
      "Level 1:\n",
      "Number of clumps: 11\n",
      "Number of pixels of bigger clump:42303\n",
      "------------------------------------------\n",
      "Level 2:\n",
      "Number of clumps: 17\n",
      "Number of pixels of bigger clump:39946\n",
      "------------------------------------------\n",
      "Level 3:\n",
      "Number of clumps: 17\n",
      "Number of pixels of bigger clump:42357\n",
      "------------------------------------------\n",
      "Level 4:\n",
      "Number of clumps: 7\n",
      "Number of pixels of bigger clump:66098\n",
      "------------------------------------------\n"
     ]
    }
   ],
   "source": [
    "wc1.summarize()"
   ]
  },
  {
   "cell_type": "code",
   "execution_count": null,
   "metadata": {
    "collapsed": false
   },
   "outputs": [],
   "source": [
    "wc2.summarize()"
   ]
  },
  {
   "cell_type": "code",
   "execution_count": null,
   "metadata": {
    "collapsed": false
   },
   "outputs": [],
   "source": [
    "wc3.summarize()"
   ]
  },
  {
   "cell_type": "code",
   "execution_count": 19,
   "metadata": {
    "collapsed": false
   },
   "outputs": [
    {
     "name": "stdout",
     "output_type": "stream",
     "text": [
      "Level 0:\n",
      "Number of clumps: 22\n",
      "Number of pixels of bigger clump:30359\n",
      "------------------------------------------\n",
      "Level 1:\n",
      "Number of clumps: 16\n",
      "Number of pixels of bigger clump:15370\n",
      "------------------------------------------\n",
      "Level 2:\n",
      "Number of clumps: 15\n",
      "Number of pixels of bigger clump:28132\n",
      "------------------------------------------\n",
      "Level 3:\n",
      "Number of clumps: 6\n",
      "Number of pixels of bigger clump:22130\n",
      "------------------------------------------\n",
      "Level 4:\n",
      "Number of clumps: 1\n",
      "Number of pixels of bigger clump:11556\n",
      "------------------------------------------\n"
     ]
    }
   ],
   "source": [
    "wc4.summarize()"
   ]
  },
  {
   "cell_type": "markdown",
   "metadata": {},
   "source": [
    "### Some graphical results"
   ]
  },
  {
   "cell_type": "code",
   "execution_count": 46,
   "metadata": {
    "collapsed": true
   },
   "outputs": [],
   "source": [
    "def show_caa_slices(caa, level, dslc=10):\n",
    "    caa = np.copy(caa)\n",
    "    caa[caa==-1] = 0\n",
    "    maxf = caa.shape[2]\n",
    "    idx_slices = np.linspace(dslc,maxf-dslc,9, dtype=np.int)\n",
    "    plt.figure(figsize=(15,15))\n",
    "    for i in range(9):\n",
    "        f = idx_slices[i]\n",
    "        plt.subplot(3,3,i+1)\n",
    "        plt.imshow(caa[:,:,f])\n",
    "        plt.xlabel('Freq = {0}'.format(f))\n",
    "        if i==1:\n",
    "            plt.title('CAA slices at level {0}'.format(level))\n",
    "    plt.show()"
   ]
  },
  {
   "cell_type": "code",
   "execution_count": 51,
   "metadata": {
    "collapsed": false
   },
   "outputs": [
    {
     "data": {
      "image/png": "[encoded data removed]",
      "text/plain": [
       "<matplotlib.figure.Figure at 0x7fe2af41b1d0>"
      ]
     },
     "metadata": {},
     "output_type": "display_data"
    }
   ],
   "source": [
    "level = 3\n",
    "show_caa_slices(caa4[level], level)"
   ]
  }
 ],
 "metadata": {
  "kernelspec": {
   "display_name": "Python 2",
   "language": "python",
   "name": "python2"
  },
  "language_info": {
   "codemirror_mode": {
    "name": "ipython",
    "version": 2
   },
   "file_extension": ".py",
   "mimetype": "text/x-python",
   "name": "python",
   "nbconvert_exporter": "python",
   "pygments_lexer": "ipython2",
   "version": "2.7.11"
  }
 },
 "nbformat": 4,
 "nbformat_minor": 0
}
