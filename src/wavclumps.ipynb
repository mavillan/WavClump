{
 "cells": [
  {
   "cell_type": "markdown",
   "metadata": {},
   "source": [
    "<center>\n",
    "    <h1> INF491 - Astroinformatics </h1>\n",
    "    <h2> WavClumps Project:  A Wavelet based algorithm to find clumps and its structure </h2>\n",
    "    <h3> Martín Villanueva A. <sup>1</sup></h3>\n",
    "</center>\n",
    "\n",
    "[1] _martin.villanueva@alumnos.usm.cl - DI UTFSM - June 2016._"
   ]
  },
  {
   "cell_type": "markdown",
   "metadata": {},
   "source": [
    "## Table of Contents\n",
    "* [Introduction](#intro)\n",
    "* [Proposed Solution](#proposal)\n",
    "* [Concept Test and Experiments](#tests)"
   ]
  },
  {
   "cell_type": "markdown",
   "metadata": {},
   "source": [
    "<div id='intro' />\n",
    "## Introduction"
   ]
  },
  {
   "cell_type": "markdown",
   "metadata": {},
   "source": [
    "<div id='proposal' />\n",
    "## Proposed Solution"
   ]
  },
  {
   "cell_type": "markdown",
   "metadata": {},
   "source": [
    "<div id='tests' />\n",
    "## Concept Test and Experiments"
   ]
  },
  {
   "cell_type": "code",
   "execution_count": 1,
   "metadata": {
    "collapsed": false
   },
   "outputs": [],
   "source": [
    "%matplotlib inline\n",
    "\n",
    "import sys\n",
    "import os\n",
    "import numpy as np\n",
    "import numpy.ma as ma\n",
    "import matplotlib.pyplot as plt\n",
    "import matlab.engine\n",
    "\n",
    "sys.path.insert(0, './clumping')\n",
    "import fellwalker as fwalker"
   ]
  },
  {
   "cell_type": "markdown",
   "metadata": {},
   "source": [
    "### Matlab engine to use"
   ]
  },
  {
   "cell_type": "code",
   "execution_count": 2,
   "metadata": {
    "collapsed": false
   },
   "outputs": [],
   "source": [
    "eng = matlab.engine.start_matlab()"
   ]
  },
  {
   "cell_type": "markdown",
   "metadata": {},
   "source": [
    "### Loading FITS data"
   ]
  },
  {
   "cell_type": "code",
   "execution_count": 3,
   "metadata": {
    "collapsed": false
   },
   "outputs": [],
   "source": [
    "\"\"\"\n",
    "Loading data\n",
    "\"\"\"\n",
    "#fits_path = '../../bindata/fits/cubes/Antennae_North.CO3_2Line.Clean.pcal1.image.fits'\n",
    "#fits_path = '../../bindata/fits/cubes/Antennae_South.CO3_2Line.Clean.pcal1.image.fits'\n",
    "#fits_path = '../../bindata/fits/cubes/CenA.CO2_1Line.Clean.image.fits'\n",
    "#fits_path = '../../bindata/fits/cubes/M100line.image.fits'\n",
    "fits_path = '../../bindata/fits/cubes/Orion.methanol.cbc.contsub.image.fits'\n",
    "\n",
    "if os.path.isfile(fits_path):\n",
    "    ml_data = eng.load_fits(fits_path)\n",
    "    np_data = np.asarray(ml_data)\n",
    "    np_data = ma.masked_array(np_data, mask=np.isnan(np_data))\n",
    "else: print(\"FITS file doesn't exist\")"
   ]
  },
  {
   "cell_type": "code",
   "execution_count": 4,
   "metadata": {
    "collapsed": true
   },
   "outputs": [],
   "source": [
    "fw = fwalker.FellWalker()"
   ]
  },
  {
   "cell_type": "code",
   "execution_count": 5,
   "metadata": {
    "collapsed": false
   },
   "outputs": [
    {
     "name": "stdout",
     "output_type": "stream",
     "text": [
      "INFO: CAA initialized successfully [fellwalker]\n",
      "INFO: [Stage 1] Removing small isolated regions [fellwalker]\n",
      "INFO: [Stage 2] Walking up! [fellwalker]\n",
      "INFO: Number of clumps found: 118 [fellwalker]\n",
      "INFO: [Stage 3] Removing small clumps [fellwalker]\n",
      "INFO: Number of remaining clumps: 94 [fellwalker]\n",
      "INFO: [Stage 4] Merging clumps with low dip [fellwalker]\n",
      "INFO: Number of remaining clumps: 29 [fellwalker]\n",
      "INFO: [Stage 5] Smoothing boundaries [fellwalker]\n"
     ]
    }
   ],
   "source": [
    "caa,clump = fw.run(np_data, verbose=True)"
   ]
  },
  {
   "cell_type": "code",
   "execution_count": null,
   "metadata": {
    "collapsed": false
   },
   "outputs": [],
   "source": [
    "A,D = eng.mra(ml_data, 'sym5', 5, nargout=2)"
   ]
  },
  {
   "cell_type": "code",
   "execution_count": null,
   "metadata": {
    "collapsed": false
   },
   "outputs": [],
   "source": [
    "A = map(np.asarray, A)\n",
    "D = map(np.asarray, D)"
   ]
  },
  {
   "cell_type": "code",
   "execution_count": null,
   "metadata": {
    "collapsed": true
   },
   "outputs": [],
   "source": [
    "class WavClumps():\n",
    "    def __init__(self, wavelet='sym5', nlevel=5, clumping_method='fellwalker'):\n",
    "        self.wavelet = wavelet\n",
    "        self.nlevel = nlevel\n",
    "        self.clumping_method = clumping_method\n",
    "        self.default_params()\n",
    "    \n",
    "    def default_params(self):\n",
    "        pass\n",
    "    \n",
    "    def mra(self):\n",
    "        pass\n",
    "        \n",
    "    def clumping(self):\n",
    "        pass\n",
    "    \n",
    "    def run(self, np_data, ml_data):\n",
    "        \n",
    "    \n",
    "    def visualize(self):\n",
    "        pass"
   ]
  }
 ],
 "metadata": {
  "kernelspec": {
   "display_name": "Python 2",
   "language": "python",
   "name": "python2"
  },
  "language_info": {
   "codemirror_mode": {
    "name": "ipython",
    "version": 2
   },
   "file_extension": ".py",
   "mimetype": "text/x-python",
   "name": "python",
   "nbconvert_exporter": "python",
   "pygments_lexer": "ipython2",
   "version": "2.7.11"
  }
 },
 "nbformat": 4,
 "nbformat_minor": 0
}
