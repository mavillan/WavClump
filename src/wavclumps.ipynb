{
 "cells": [
  {
   "cell_type": "markdown",
   "metadata": {},
   "source": [
    "<center>\n",
    "    <h1> INF491 - Astroinformatics </h1>\n",
    "    <h2> WavClumps Project:  A Wavelet based algorithm to find clumps and its structure </h2>\n",
    "    <h3> Martín Villanueva A. <sup>1</sup></h3>\n",
    "</center>\n",
    "\n",
    "[1] _martin.villanueva@alumnos.usm.cl - DI UTFSM - June 2016._"
   ]
  },
  {
   "cell_type": "markdown",
   "metadata": {},
   "source": [
    "## Table of Contents\n",
    "* [Introduction](#intro)\n",
    "* [Proposed Solution](#proposal)\n",
    "* [Concept Test and Experiments](#tests)"
   ]
  },
  {
   "cell_type": "markdown",
   "metadata": {},
   "source": [
    "<div id='intro' />\n",
    "## Introduction"
   ]
  },
  {
   "cell_type": "markdown",
   "metadata": {},
   "source": [
    "<div id='proposal' />\n",
    "## Proposed Solution"
   ]
  },
  {
   "cell_type": "markdown",
   "metadata": {},
   "source": [
    "<div id='tests' />\n",
    "## Concept Test and Experiments"
   ]
  },
  {
   "cell_type": "code",
   "execution_count": 2,
   "metadata": {
    "collapsed": false
   },
   "outputs": [
    {
     "ename": "IndentationError",
     "evalue": "expected an indented block (fellwalker.py, line 514)",
     "output_type": "error",
     "traceback": [
      "\u001b[1;36m  File \u001b[1;32m\"./clumping/fellwalker.py\"\u001b[1;36m, line \u001b[1;32m514\u001b[0m\n\u001b[1;33m    del caa\u001b[0m\n\u001b[1;37m      ^\u001b[0m\n\u001b[1;31mIndentationError\u001b[0m\u001b[1;31m:\u001b[0m expected an indented block\n"
     ]
    }
   ],
   "source": [
    "%matplotlib inline\n",
    "\n",
    "import sys\n",
    "import os\n",
    "import numpy as np\n",
    "import numpy.ma as ma\n",
    "import matplotlib.pyplot as plt\n",
    "import matlab.engine\n",
    "\n",
    "sys.path.insert(0, './clumping')\n",
    "import fellwalker as fwalker"
   ]
  },
  {
   "cell_type": "markdown",
   "metadata": {},
   "source": [
    "### Matlab engine to use"
   ]
  },
  {
   "cell_type": "code",
   "execution_count": 2,
   "metadata": {
    "collapsed": false
   },
   "outputs": [],
   "source": [
    "eng = matlab.engine.start_matlab()"
   ]
  },
  {
   "cell_type": "markdown",
   "metadata": {},
   "source": [
    "### Loading FITS data"
   ]
  },
  {
   "cell_type": "code",
   "execution_count": 3,
   "metadata": {
    "collapsed": false
   },
   "outputs": [],
   "source": [
    "\"\"\"\n",
    "Loading data\n",
    "\"\"\"\n",
    "#fits_path = '../../bindata/fits/cubes/Antennae_North.CO3_2Line.Clean.pcal1.image.fits'\n",
    "#fits_path = '../../bindata/fits/cubes/Antennae_South.CO3_2Line.Clean.pcal1.image.fits'\n",
    "#fits_path = '../../bindata/fits/cubes/CenA.CO2_1Line.Clean.image.fits'\n",
    "#fits_path = '../../bindata/fits/cubes/M100line.image.fits'\n",
    "fits_path = '../../bindata/fits/cubes/Orion.methanol.cbc.contsub.image.fits'\n",
    "\n",
    "if os.path.isfile(fits_path):\n",
    "    ml_data = eng.load_fits(fits_path)\n",
    "    np_data = np.asarray(ml_data)\n",
    "    np_data = ma.masked_array(np_data, mask=np.isnan(np_data))\n",
    "else: print(\"FITS file doesn't exist\")"
   ]
  },
  {
   "cell_type": "code",
   "execution_count": 4,
   "metadata": {
    "collapsed": true
   },
   "outputs": [],
   "source": [
    "A,D = eng.mra(ml_data, 'sym5', 3, nargout=2)"
   ]
  },
  {
   "cell_type": "code",
   "execution_count": 5,
   "metadata": {
    "collapsed": false
   },
   "outputs": [
    {
     "name": "stdout",
     "output_type": "stream",
     "text": [
      "INFO: CAA initialized successfully [fellwalker]\n",
      "INFO: [Stage 1] Removing small isolated regions [fellwalker]\n",
      "INFO: [Stage 2] Walking up! [fellwalker]\n",
      "INFO: Number of clumps found: 118 [fellwalker]\n",
      "INFO: [Stage 3] Removing small clumps [fellwalker]\n",
      "INFO: Number of remaining clumps: 94 [fellwalker]\n",
      "INFO: [Stage 4] Merging clumps with low dip [fellwalker]\n",
      "INFO: Number of remaining clumps: 29 [fellwalker]\n",
      "INFO: [Stage 5] Smoothing boundaries [fellwalker]\n",
      "True\n",
      "[(), (), ()]\n",
      "()\n",
      "()\n",
      "()\n"
     ]
    }
   ],
   "source": [
    "fw = fwalker.FellWalker()\n",
    "caa,clump = fw.run(np_data, verbose=True)"
   ]
  },
  {
   "cell_type": "code",
   "execution_count": 6,
   "metadata": {
    "collapsed": true
   },
   "outputs": [],
   "source": [
    "class WavClumps():\n",
    "    def __init__(self, wavelet='sym5', nlevel=4, clumping_method='fellwalker'):\n",
    "        self.wavelet = wavelet\n",
    "        self.nlevel = nlevel\n",
    "        #setting the clumping algorithm\n",
    "        if clumping_method=='fellwalker':\n",
    "            self.clumping = fwalker.FellWalker()\n",
    "        elif clumping_method=='clumpfind':\n",
    "            pass\n",
    "        #setting default params\n",
    "        self.default_params()\n",
    "    \n",
    "    def default_params(self):\n",
    "        pass\n",
    "    \n",
    "    def mra(self, ml_data):\n",
    "        \"\"\"\n",
    "        Computes approximations and details for each level\n",
    "        \"\"\"\n",
    "        _A,_D = eng.mra(ml_data, self.wavelet, self.nlevel, nargout=2)\n",
    "        \n",
    "        #casting to numpy.ndarray\n",
    "        A = map(np.asarray, _A)\n",
    "        D = map(np.asarray, _D)\n",
    "        del _A,_D\n",
    "        return (A,D)\n",
    "    \n",
    "    def dendro_build(self):\n",
    "        pass\n",
    "    \n",
    "    def run(self, np_data, ml_data):\n",
    "        #perform multiresolution analysis\n",
    "        A,D = self.mra(ml_data)\n",
    "        A.insert(0, np_data)\n",
    "        \n",
    "        #perform clumping algorithm over original data and each approximation level\n",
    "        caa = list()\n",
    "        clumps = list()\n",
    "        for data in A:\n",
    "            res = self.clumping.run(data)\n",
    "            caa.append(res[0])\n",
    "            clumps.append(res[1])\n",
    "        \n",
    "        #storing results\n",
    "        self.caa = caa\n",
    "        self.clumps = clumps\n",
    "        return caa,clumps\n",
    "    \n",
    "    def summarize(self):\n",
    "        pass\n",
    "    \n",
    "    def visualize(self):\n",
    "        pass"
   ]
  },
  {
   "cell_type": "code",
   "execution_count": 7,
   "metadata": {
    "collapsed": true
   },
   "outputs": [],
   "source": [
    "wc1 = WavClumps(wavelet='sym5', nlevel=4)"
   ]
  },
  {
   "cell_type": "code",
   "execution_count": 8,
   "metadata": {
    "collapsed": false
   },
   "outputs": [],
   "source": [
    "a = np.random.random((10,10))"
   ]
  },
  {
   "cell_type": "code",
   "execution_count": 9,
   "metadata": {
    "collapsed": false
   },
   "outputs": [
    {
     "data": {
      "text/plain": [
       "0.31110316615480071"
      ]
     },
     "execution_count": 9,
     "metadata": {},
     "output_type": "execute_result"
    }
   ],
   "source": [
    "a[(5,5)]"
   ]
  },
  {
   "cell_type": "code",
   "execution_count": 10,
   "metadata": {
    "collapsed": false
   },
   "outputs": [
    {
     "data": {
      "text/plain": [
       "<function numpy.core.fromnumeric.all>"
      ]
     },
     "execution_count": 10,
     "metadata": {},
     "output_type": "execute_result"
    }
   ],
   "source": [
    "np.all"
   ]
  }
 ],
 "metadata": {
  "kernelspec": {
   "display_name": "Python 2",
   "language": "python",
   "name": "python2"
  },
  "language_info": {
   "codemirror_mode": {
    "name": "ipython",
    "version": 2
   },
   "file_extension": ".py",
   "mimetype": "text/x-python",
   "name": "python",
   "nbconvert_exporter": "python",
   "pygments_lexer": "ipython2",
   "version": "2.7.11"
  }
 },
 "nbformat": 4,
 "nbformat_minor": 0
}
